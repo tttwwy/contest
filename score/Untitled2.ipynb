{
 "metadata": {
  "name": "",
  "signature": "sha256:01c85bc7162c3e0ef7fe90675245ec5ceae81539c54571f571089f76310daf82"
 },
 "nbformat": 3,
 "nbformat_minor": 0,
 "worksheets": [
  {
   "cells": [
    {
     "cell_type": "code",
     "collapsed": false,
     "input": [
      "import os\n",
      "import sys\n",
      "import re"
     ],
     "language": "python",
     "metadata": {},
     "outputs": [],
     "prompt_number": 6
    },
    {
     "cell_type": "code",
     "collapsed": false,
     "input": [
      "os.listdir('/')"
     ],
     "language": "python",
     "metadata": {},
     "outputs": [
      {
       "metadata": {},
       "output_type": "pyout",
       "prompt_number": 7,
       "text": [
        "['$Kanbox.Recovery',\n",
        " '$RECYCLE.BIN',\n",
        " 'junction.exe',\n",
        " 'Program',\n",
        " 'run.bat',\n",
        " 'Setup',\n",
        " 'System Volume Information',\n",
        " '\\xb8\\xf6\\xc8\\xcb',\n",
        " '\\xd6\\xd0\\xbf\\xc6\\xb4\\xf3',\n",
        " '\\xc2\\xdb\\xce\\xc4',\n",
        " '\\xbd\\xf0\\xc9\\xbd\\xbf\\xec\\xc5\\xcc',\n",
        " '\\xe9\\x87\\x91\\xe5\\xb1\\xb1\\xe5\\xbf\\xab\\xe7\\x9b\\x98']"
       ]
      }
     ],
     "prompt_number": 7
    },
    {
     "cell_type": "code",
     "collapsed": false,
     "input": [
      "re.search('^run$','runa')"
     ],
     "language": "python",
     "metadata": {},
     "outputs": [],
     "prompt_number": 17
    },
    {
     "cell_type": "code",
     "collapsed": false,
     "input": [
      "a= [1,2,3,4]"
     ],
     "language": "python",
     "metadata": {},
     "outputs": [],
     "prompt_number": 19
    },
    {
     "cell_type": "code",
     "collapsed": false,
     "input": [
      "a.remove(4)"
     ],
     "language": "python",
     "metadata": {},
     "outputs": [
      {
       "ename": "ValueError",
       "evalue": "list.remove(x): x not in list",
       "output_type": "pyerr",
       "traceback": [
        "\u001b[1;31m---------------------------------------------------------------------------\u001b[0m\n\u001b[1;31mValueError\u001b[0m                                Traceback (most recent call last)",
        "\u001b[1;32m<ipython-input-21-1ace18a8c563>\u001b[0m in \u001b[0;36m<module>\u001b[1;34m()\u001b[0m\n\u001b[1;32m----> 1\u001b[1;33m \u001b[0ma\u001b[0m\u001b[1;33m.\u001b[0m\u001b[0mremove\u001b[0m\u001b[1;33m(\u001b[0m\u001b[1;36m4\u001b[0m\u001b[1;33m)\u001b[0m\u001b[1;33m\u001b[0m\u001b[0m\n\u001b[0m",
        "\u001b[1;31mValueError\u001b[0m: list.remove(x): x not in list"
       ]
      }
     ],
     "prompt_number": 21
    },
    {
     "cell_type": "code",
     "collapsed": false,
     "input": [
      "a"
     ],
     "language": "python",
     "metadata": {},
     "outputs": [
      {
       "metadata": {},
       "output_type": "pyout",
       "prompt_number": 23,
       "text": [
        "[1, 2, 3]"
       ]
      }
     ],
     "prompt_number": 23
    },
    {
     "cell_type": "code",
     "collapsed": false,
     "input": [
      "help(range)"
     ],
     "language": "python",
     "metadata": {},
     "outputs": [
      {
       "output_type": "stream",
       "stream": "stdout",
       "text": [
        "Help on built-in function range in module __builtin__:\n",
        "\n",
        "range(...)\n",
        "    range(stop) -> list of integers\n",
        "    range(start, stop[, step]) -> list of integers\n",
        "    \n",
        "    Return a list containing an arithmetic progression of integers.\n",
        "    range(i, j) returns [i, i+1, i+2, ..., j-1]; start (!) defaults to 0.\n",
        "    When step is given, it specifies the increment (or decrement).\n",
        "    For example, range(4) returns [0, 1, 2, 3].  The end point is omitted!\n",
        "    These are exactly the valid indices for a list of 4 elements.\n",
        "\n"
       ]
      }
     ],
     "prompt_number": 25
    },
    {
     "cell_type": "code",
     "collapsed": false,
     "input": [
      "    def feature_file_search(work_dir,feature_list):\n",
      "        file_list = os.listdir(work_dir)\n",
      "        print file_list\n",
      "        is_chosen = [False] * len(file_list)\n",
      "        for feature_name in feature_list:\n",
      "            for index,flag in enumerate(is_chosen):\n",
      "                if not flag and re.search(r'^{0}.txt$'.format(feature_name),file_list[index]):\n",
      "                    is_chosen[index] = True\n",
      "        result = [os.path.join(work_dir,file_list[index]) for index,flag in enumerate(is_chosen) if flag]\n",
      "        return result"
     ],
     "language": "python",
     "metadata": {},
     "outputs": [],
     "prompt_number": 45
    },
    {
     "cell_type": "code",
     "collapsed": false,
     "input": [
      "feature_file_search(r'G:\\Program\\python\\contest\\score\\feature\\train',['uid_term[0-9]_(all_term|month|week|daypart)_[0-9]+'])"
     ],
     "language": "python",
     "metadata": {},
     "outputs": [
      {
       "output_type": "stream",
       "stream": "stdout",
       "text": [
        "['uid_term0_score3.txt', 'uid_term1_1.txt', 'uid_term1_2.txt', 'uid_term1_3.txt', 'uid_term1_4.txt', 'uid_term1_book_1.txt', 'uid_term1_category_1.txt', 'uid_term1_category_2.txt', 'uid_term1_daypart_2.txt', 'uid_term1_daypart_location_1.txt', 'uid_term1_daypart_location_2.txt', 'uid_term1_location_1.txt', 'uid_term1_location_2.txt', 'uid_term1_location_3.txt', 'uid_term1_location_4.txt', 'uid_term1_location_5.txt', 'uid_term1_month_1.txt', 'uid_term1_month_2.txt', 'uid_term1_month_3.txt', 'uid_term1_month_4.txt', 'uid_term1_month_location_1.txt', 'uid_term1_month_location_2.txt', 'uid_term1_month_location_3.txt', 'uid_term1_month_location_4.txt', 'uid_term1_month_location_5.txt', 'uid_term1_score1.txt', 'uid_term1_score2.txt', 'uid_term1_week_2.txt', 'uid_term1_week_location_1.txt', 'uid_term1_week_location_2.txt', 'uid_term2_1.txt', 'uid_term2_2.txt', 'uid_term2_3.txt', 'uid_term2_4.txt', 'uid_term2_book_1.txt', 'uid_term2_category_1.txt', 'uid_term2_category_2.txt', 'uid_term2_daypart_2.txt', 'uid_term2_daypart_location_1.txt', 'uid_term2_daypart_location_2.txt', 'uid_term2_location_1.txt', 'uid_term2_location_2.txt', 'uid_term2_location_3.txt', 'uid_term2_location_4.txt', 'uid_term2_location_5.txt', 'uid_term2_month_1.txt', 'uid_term2_month_2.txt', 'uid_term2_month_3.txt', 'uid_term2_month_4.txt', 'uid_term2_month_location_1.txt', 'uid_term2_month_location_2.txt', 'uid_term2_month_location_3.txt', 'uid_term2_month_location_4.txt', 'uid_term2_month_location_5.txt', 'uid_term2_score1.txt', 'uid_term2_score2.txt', 'uid_term2_week_2.txt', 'uid_term2_week_location_1.txt', 'uid_term2_week_location_2.txt', 'uid_term3_1.txt', 'uid_term3_2.txt', 'uid_term3_3.txt', 'uid_term3_4.txt', 'uid_term3_book_1.txt', 'uid_term3_category_1.txt', 'uid_term3_category_2.txt', 'uid_term3_daypart_2.txt', 'uid_term3_daypart_location_1.txt', 'uid_term3_daypart_location_2.txt', 'uid_term3_location_1.txt', 'uid_term3_location_2.txt', 'uid_term3_location_3.txt', 'uid_term3_location_4.txt', 'uid_term3_location_5.txt', 'uid_term3_month_1.txt', 'uid_term3_month_2.txt', 'uid_term3_month_3.txt', 'uid_term3_month_4.txt', 'uid_term3_month_location_1.txt', 'uid_term3_month_location_2.txt', 'uid_term3_month_location_3.txt', 'uid_term3_month_location_4.txt', 'uid_term3_month_location_5.txt', 'uid_term3_score1.txt', 'uid_term3_score2.txt', 'uid_term3_week_2.txt', 'uid_term3_week_location_1.txt', 'uid_term3_week_location_2.txt']\n"
       ]
      },
      {
       "metadata": {},
       "output_type": "pyout",
       "prompt_number": 47,
       "text": [
        "['G:\\\\Program\\\\python\\\\contest\\\\score\\\\feature\\\\train\\\\uid_term1_daypart_2.txt',\n",
        " 'G:\\\\Program\\\\python\\\\contest\\\\score\\\\feature\\\\train\\\\uid_term1_month_1.txt',\n",
        " 'G:\\\\Program\\\\python\\\\contest\\\\score\\\\feature\\\\train\\\\uid_term1_month_2.txt',\n",
        " 'G:\\\\Program\\\\python\\\\contest\\\\score\\\\feature\\\\train\\\\uid_term1_month_3.txt',\n",
        " 'G:\\\\Program\\\\python\\\\contest\\\\score\\\\feature\\\\train\\\\uid_term1_month_4.txt',\n",
        " 'G:\\\\Program\\\\python\\\\contest\\\\score\\\\feature\\\\train\\\\uid_term1_week_2.txt',\n",
        " 'G:\\\\Program\\\\python\\\\contest\\\\score\\\\feature\\\\train\\\\uid_term2_daypart_2.txt',\n",
        " 'G:\\\\Program\\\\python\\\\contest\\\\score\\\\feature\\\\train\\\\uid_term2_month_1.txt',\n",
        " 'G:\\\\Program\\\\python\\\\contest\\\\score\\\\feature\\\\train\\\\uid_term2_month_2.txt',\n",
        " 'G:\\\\Program\\\\python\\\\contest\\\\score\\\\feature\\\\train\\\\uid_term2_month_3.txt',\n",
        " 'G:\\\\Program\\\\python\\\\contest\\\\score\\\\feature\\\\train\\\\uid_term2_month_4.txt',\n",
        " 'G:\\\\Program\\\\python\\\\contest\\\\score\\\\feature\\\\train\\\\uid_term2_week_2.txt',\n",
        " 'G:\\\\Program\\\\python\\\\contest\\\\score\\\\feature\\\\train\\\\uid_term3_daypart_2.txt',\n",
        " 'G:\\\\Program\\\\python\\\\contest\\\\score\\\\feature\\\\train\\\\uid_term3_month_1.txt',\n",
        " 'G:\\\\Program\\\\python\\\\contest\\\\score\\\\feature\\\\train\\\\uid_term3_month_2.txt',\n",
        " 'G:\\\\Program\\\\python\\\\contest\\\\score\\\\feature\\\\train\\\\uid_term3_month_3.txt',\n",
        " 'G:\\\\Program\\\\python\\\\contest\\\\score\\\\feature\\\\train\\\\uid_term3_month_4.txt',\n",
        " 'G:\\\\Program\\\\python\\\\contest\\\\score\\\\feature\\\\train\\\\uid_term3_week_2.txt']"
       ]
      }
     ],
     "prompt_number": 47
    },
    {
     "cell_type": "code",
     "collapsed": false,
     "input": [
      "feature_file_search(r'G:\\Program\\python\\contest\\score\\feature\\train',['uid_term1_week_2'])"
     ],
     "language": "python",
     "metadata": {},
     "outputs": [
      {
       "output_type": "stream",
       "stream": "stdout",
       "text": [
        "['uid_term0_score3.txt', 'uid_term1_1.txt', 'uid_term1_2.txt', 'uid_term1_3.txt', 'uid_term1_4.txt', 'uid_term1_book_1.txt', 'uid_term1_category_1.txt', 'uid_term1_category_2.txt', 'uid_term1_daypart_2.txt', 'uid_term1_daypart_location_1.txt', 'uid_term1_daypart_location_2.txt', 'uid_term1_location_1.txt', 'uid_term1_location_2.txt', 'uid_term1_location_3.txt', 'uid_term1_location_4.txt', 'uid_term1_location_5.txt', 'uid_term1_month_1.txt', 'uid_term1_month_2.txt', 'uid_term1_month_3.txt', 'uid_term1_month_4.txt', 'uid_term1_month_location_1.txt', 'uid_term1_month_location_2.txt', 'uid_term1_month_location_3.txt', 'uid_term1_month_location_4.txt', 'uid_term1_month_location_5.txt', 'uid_term1_score1.txt', 'uid_term1_score2.txt', 'uid_term1_week_2.txt', 'uid_term1_week_location_1.txt', 'uid_term1_week_location_2.txt', 'uid_term2_1.txt', 'uid_term2_2.txt', 'uid_term2_3.txt', 'uid_term2_4.txt', 'uid_term2_book_1.txt', 'uid_term2_category_1.txt', 'uid_term2_category_2.txt', 'uid_term2_daypart_2.txt', 'uid_term2_daypart_location_1.txt', 'uid_term2_daypart_location_2.txt', 'uid_term2_location_1.txt', 'uid_term2_location_2.txt', 'uid_term2_location_3.txt', 'uid_term2_location_4.txt', 'uid_term2_location_5.txt', 'uid_term2_month_1.txt', 'uid_term2_month_2.txt', 'uid_term2_month_3.txt', 'uid_term2_month_4.txt', 'uid_term2_month_location_1.txt', 'uid_term2_month_location_2.txt', 'uid_term2_month_location_3.txt', 'uid_term2_month_location_4.txt', 'uid_term2_month_location_5.txt', 'uid_term2_score1.txt', 'uid_term2_score2.txt', 'uid_term2_week_2.txt', 'uid_term2_week_location_1.txt', 'uid_term2_week_location_2.txt', 'uid_term3_1.txt', 'uid_term3_2.txt', 'uid_term3_3.txt', 'uid_term3_4.txt', 'uid_term3_book_1.txt', 'uid_term3_category_1.txt', 'uid_term3_category_2.txt', 'uid_term3_daypart_2.txt', 'uid_term3_daypart_location_1.txt', 'uid_term3_daypart_location_2.txt', 'uid_term3_location_1.txt', 'uid_term3_location_2.txt', 'uid_term3_location_3.txt', 'uid_term3_location_4.txt', 'uid_term3_location_5.txt', 'uid_term3_month_1.txt', 'uid_term3_month_2.txt', 'uid_term3_month_3.txt', 'uid_term3_month_4.txt', 'uid_term3_month_location_1.txt', 'uid_term3_month_location_2.txt', 'uid_term3_month_location_3.txt', 'uid_term3_month_location_4.txt', 'uid_term3_month_location_5.txt', 'uid_term3_score1.txt', 'uid_term3_score2.txt', 'uid_term3_week_2.txt', 'uid_term3_week_location_1.txt', 'uid_term3_week_location_2.txt']\n"
       ]
      },
      {
       "metadata": {},
       "output_type": "pyout",
       "prompt_number": 50,
       "text": [
        "['G:\\\\Program\\\\python\\\\contest\\\\score\\\\feature\\\\train\\\\uid_term1_week_2.txt']"
       ]
      }
     ],
     "prompt_number": 50
    },
    {
     "cell_type": "code",
     "collapsed": false,
     "input": [
      "a = 'abcde.txt'\n",
      "a[:-4]"
     ],
     "language": "python",
     "metadata": {},
     "outputs": [
      {
       "metadata": {},
       "output_type": "pyout",
       "prompt_number": 51,
       "text": [
        "'abcde'"
       ]
      }
     ],
     "prompt_number": 51
    }
   ],
   "metadata": {}
  }
 ]
}