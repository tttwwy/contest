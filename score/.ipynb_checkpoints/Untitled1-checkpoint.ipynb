{
 "metadata": {
  "name": "",
  "signature": "sha256:46e60665328da50f15469b0d8acf2ae110b4e2b8d4aa5234048c7425f3b12cc1"
 },
 "nbformat": 3,
 "nbformat_minor": 0,
 "worksheets": []
}